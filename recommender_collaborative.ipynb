{
 "cells": [
  {
   "cell_type": "markdown",
   "metadata": {},
   "source": [
    "### First Practice Activity of a Recommendation System\n",
    "\n",
    "To begin, my objective is learn about RecSystems with Reinforcement Learning, but as i don't know anything about RecSys or RL, i decided to understanding each term separately and, after that, finally study the two as a unique theme. Therefore, i will start with Recommendation System, due to the fact of be more simple than RL, beginning with all important definitions in these area of study."
   ]
  },
  {
   "cell_type": "markdown",
   "metadata": {},
   "source": [
    "#### First Ideas\n",
    "The basis of the recommendation system is \"What do you want to recommend, for whom, and how?\" you can find many ways to make recommendations.\n",
    "\n",
    "For example, if you have a client who watches a horror movie, you have two main ways to choose a recommendation for him. The first is to recommend other horror movies like the first one, i.e., similar items(films) to the original article in the interaction—that is an item-focused approach.\n",
    "\n",
    "In other cases, you wish to recommend movies watched by other users similar to the client who watches that horror movie; in that case, you use a User-focused approach.\n",
    "\n",
    "You can apply these approaches to different types of recommendation systems.\n",
    "\n",
    "\n",
    "Despite that, you have two ways to make a recommendation system: collaborative and content.\n",
    "\n",
    "##### Collaborative\n",
    "\n",
    "Collaborative Methods use past interactions between users and items to make new recommendations using a \"User-Item Interactions Matrix.\" In the middle of the recommendation, it uses the proximity between the users/items to predict. Is it possible to use a model-based approach or a metric to calculate the similarity and just use this metric.\n",
    "\n",
    "It has some issues, like problems with new Users and Items, but with other methods specific to further information that can surpass this problem.\n",
    "\n",
    "A lot of methods using a collaborative approach, such as:\n",
    "\n",
    "        - Memory Based\n",
    "        - Model-Based\n",
    "\n",
    "##### Content\n",
    "\n",
    "Content methods use additional information about users and/or items. In the movie example, you can have information about the Release Year, the Director, the Principal Actors, and many other data.\n",
    "\n",
    "These methods have much more information and don't suffer with new Users or Items too much because they "
   ]
  },
  {
   "cell_type": "markdown",
   "metadata": {},
   "source": [
    "### Practice\n",
    "\n",
    "I will use the most simple recommendation system for this first recommendation system, a memory-based collaborative model. These recommendation systems use just similarity metrics to make a recommendation, i.e., they don't have any ML model in the middle of the process as the simplest method is the most interesting way to new students like me.\n",
    "\n",
    "One of the problems of that method is the bad scalability with the new users and new itens, because of the pivot table."
   ]
  },
  {
   "cell_type": "markdown",
   "metadata": {},
   "source": [
    "How i gonna use a collaborative approach, i need just the information about the interactions user-item.\n",
    "\n",
    "I will use three datasets to test the recommendation:\n",
    "        --- IMDB Movies Dataset  - Reviews\n",
    "        --- Amazon Books Dataset - Reviews\n",
    "        --- Steam Games Dataset  - Hours Played"
   ]
  },
  {
   "cell_type": "code",
   "execution_count": 1,
   "outputs": [],
   "source": [
    "import pandas as pd\n",
    "import numpy as np\n",
    "from scipy.sparse import csr_matrix, csc_matrix\n",
    "from distanceRecommender import DistanceCollaborativeRecommender"
   ],
   "metadata": {
    "collapsed": false,
    "ExecuteTime": {
     "end_time": "2024-01-11T14:59:36.373614200Z",
     "start_time": "2024-01-11T14:59:35.141950200Z"
    }
   }
  },
  {
   "cell_type": "markdown",
   "source": [
    "### IMDB MOVIES"
   ],
   "metadata": {
    "collapsed": false
   }
  },
  {
   "cell_type": "code",
   "execution_count": 2,
   "metadata": {
    "ExecuteTime": {
     "end_time": "2024-01-11T14:59:47.091114800Z",
     "start_time": "2024-01-11T14:59:36.378146400Z"
    }
   },
   "outputs": [
    {
     "name": "stdout",
     "output_type": "stream",
     "text": [
      "<class 'pandas.core.frame.DataFrame'>\n",
      "RangeIndex: 27278 entries, 0 to 27277\n",
      "Data columns (total 3 columns):\n",
      " #   Column   Non-Null Count  Dtype \n",
      "---  ------   --------------  ----- \n",
      " 0   movieId  27278 non-null  int64 \n",
      " 1   title    27278 non-null  object\n",
      " 2   genres   27278 non-null  object\n",
      "dtypes: int64(1), object(2)\n",
      "memory usage: 639.5+ KB\n",
      "<class 'pandas.core.frame.DataFrame'>\n",
      "RangeIndex: 20000263 entries, 0 to 20000262\n",
      "Data columns (total 4 columns):\n",
      " #   Column     Dtype  \n",
      "---  ------     -----  \n",
      " 0   userId     int64  \n",
      " 1   movieId    int64  \n",
      " 2   rating     float64\n",
      " 3   timestamp  object \n",
      "dtypes: float64(1), int64(2), object(1)\n",
      "memory usage: 610.4+ MB\n"
     ]
    }
   ],
   "source": [
    "names = pd.read_csv(\"../Datasets/Movies IMDB/info.csv\")\n",
    "\n",
    "names.info()\n",
    "\n",
    "interactions = pd.read_csv(\"../Datasets/Movies IMDB/ratings.csv\")\n",
    "\n",
    "interactions.info()"
   ]
  },
  {
   "cell_type": "code",
   "execution_count": 3,
   "metadata": {
    "ExecuteTime": {
     "end_time": "2024-01-11T14:59:47.381265Z",
     "start_time": "2024-01-11T14:59:47.374741800Z"
    }
   },
   "outputs": [],
   "source": [
    "del interactions[\"timestamp\"]\n",
    "\n",
    "del names[\"genres\"]\n",
    "\n",
    "# Removing irrelevant information"
   ]
  },
  {
   "cell_type": "markdown",
   "metadata": {},
   "source": [
    "Merging the two dataframes in one"
   ]
  },
  {
   "cell_type": "code",
   "execution_count": 4,
   "metadata": {
    "ExecuteTime": {
     "end_time": "2024-01-11T14:59:49.535734600Z",
     "start_time": "2024-01-11T14:59:47.382265Z"
    }
   },
   "outputs": [
    {
     "data": {
      "text/plain": "   movieId             title  userId  rating\n0        1  Toy Story (1995)       3     4.0\n1        1  Toy Story (1995)       6     5.0\n2        1  Toy Story (1995)       8     4.0\n3        1  Toy Story (1995)      10     4.0\n4        1  Toy Story (1995)      11     4.5",
      "text/html": "<div>\n<style scoped>\n    .dataframe tbody tr th:only-of-type {\n        vertical-align: middle;\n    }\n\n    .dataframe tbody tr th {\n        vertical-align: top;\n    }\n\n    .dataframe thead th {\n        text-align: right;\n    }\n</style>\n<table border=\"1\" class=\"dataframe\">\n  <thead>\n    <tr style=\"text-align: right;\">\n      <th></th>\n      <th>movieId</th>\n      <th>title</th>\n      <th>userId</th>\n      <th>rating</th>\n    </tr>\n  </thead>\n  <tbody>\n    <tr>\n      <th>0</th>\n      <td>1</td>\n      <td>Toy Story (1995)</td>\n      <td>3</td>\n      <td>4.0</td>\n    </tr>\n    <tr>\n      <th>1</th>\n      <td>1</td>\n      <td>Toy Story (1995)</td>\n      <td>6</td>\n      <td>5.0</td>\n    </tr>\n    <tr>\n      <th>2</th>\n      <td>1</td>\n      <td>Toy Story (1995)</td>\n      <td>8</td>\n      <td>4.0</td>\n    </tr>\n    <tr>\n      <th>3</th>\n      <td>1</td>\n      <td>Toy Story (1995)</td>\n      <td>10</td>\n      <td>4.0</td>\n    </tr>\n    <tr>\n      <th>4</th>\n      <td>1</td>\n      <td>Toy Story (1995)</td>\n      <td>11</td>\n      <td>4.5</td>\n    </tr>\n  </tbody>\n</table>\n</div>"
     },
     "execution_count": 4,
     "metadata": {},
     "output_type": "execute_result"
    }
   ],
   "source": [
    "data = pd.merge(names, interactions)\n",
    "\n",
    "del names, interactions\n",
    "\n",
    "data.head()"
   ]
  },
  {
   "cell_type": "code",
   "execution_count": 5,
   "metadata": {
    "ExecuteTime": {
     "end_time": "2024-01-11T14:59:49.672034500Z",
     "start_time": "2024-01-11T14:59:49.526748200Z"
    }
   },
   "outputs": [],
   "source": [
    "users_to_validate = data[data[\"userId\"].isin([357, 22006, 3400])]"
   ]
  },
  {
   "cell_type": "markdown",
   "metadata": {},
   "source": [
    "Taking a sample of 10 Million to reduce the dimensionality of the DataFrame"
   ]
  },
  {
   "cell_type": "markdown",
   "metadata": {},
   "source": [
    "Removing users with low count of reviews\n"
   ]
  },
  {
   "cell_type": "markdown",
   "source": [
    "Creating a pivot table with the format: \n",
    "    \n",
    "   - Rows: Users\n",
    "   - Columns: Items\n",
    "\n",
    "With this pivot we can make the recommendations."
   ],
   "metadata": {
    "collapsed": false
   }
  },
  {
   "cell_type": "code",
   "execution_count": 6,
   "metadata": {
    "ExecuteTime": {
     "end_time": "2024-01-11T14:59:49.672034500Z",
     "start_time": "2024-01-11T14:59:49.656607Z"
    }
   },
   "outputs": [],
   "source": [
    "# Code to create the pivot table in a efficient way in csr matrix\n",
    "\n",
    "def sparse_pivot_table(data, userId_column, itemId_column, ratings_column):\n",
    "    user_ids = data[userId_column].unique()\n",
    "    title_ids = data[itemId_column].unique()\n",
    "\n",
    "    user_to_row = {user_id: i for i, user_id in enumerate(data[userId_column].unique())} # dict used to userNames\n",
    "    title_to_col = {title: j for j, title in enumerate(data[itemId_column].unique())} # dict used to itemNames\n",
    "\n",
    "    rows = [user_to_row[user_id] for user_id in data[userId_column]]\n",
    "    cols = [title_to_col[title] for title in data[itemId_column]]\n",
    "    ratings = data[ratings_column].tolist()\n",
    "\n",
    "    sparse_matrix = csr_matrix((ratings, (rows, cols)), shape=(len(user_ids), len(title_ids)))\n",
    "\n",
    "    user_list = pd.Series(list(user_to_row.keys()))\n",
    "    item_list = pd.Series(list(title_to_col.keys()))\n",
    "\n",
    "    return user_list, item_list, sparse_matrix"
   ]
  },
  {
   "cell_type": "code",
   "execution_count": 7,
   "metadata": {
    "ExecuteTime": {
     "end_time": "2024-01-11T15:00:06.030103900Z",
     "start_time": "2024-01-11T14:59:49.666914100Z"
    }
   },
   "outputs": [],
   "source": [
    "user_names, movie_names, sparse_matrix = sparse_pivot_table(data, \"userId\", \"title\", \"rating\")"
   ]
  },
  {
   "cell_type": "code",
   "execution_count": 8,
   "metadata": {
    "ExecuteTime": {
     "end_time": "2024-01-11T15:00:06.342780200Z",
     "start_time": "2024-01-11T15:00:06.031113300Z"
    }
   },
   "outputs": [],
   "source": [
    "pivot_csr = sparse_matrix\n",
    "\n",
    "pivot_csc = sparse_matrix.tocsc()\n",
    "\n",
    "# Creating two sparses tables to make a more efficient code"
   ]
  },
  {
   "cell_type": "code",
   "execution_count": 9,
   "metadata": {
    "ExecuteTime": {
     "end_time": "2024-01-11T15:00:06.359318200Z",
     "start_time": "2024-01-11T15:00:06.346277200Z"
    }
   },
   "outputs": [],
   "source": [
    "del data, sparse_matrix"
   ]
  },
  {
   "cell_type": "markdown",
   "source": [
    "### Using the Collaborative Recommender\n",
    "\n",
    "In first place i build the recommender in the jupyter, but to make more consistent and clean i build a class DistanceCollaborativeRecommender to make this job."
   ],
   "metadata": {
    "collapsed": false
   }
  },
  {
   "cell_type": "code",
   "execution_count": 10,
   "metadata": {
    "ExecuteTime": {
     "end_time": "2024-01-11T15:00:06.759818700Z",
     "start_time": "2024-01-11T15:00:06.359318200Z"
    }
   },
   "outputs": [
    {
     "name": "stdout",
     "output_type": "stream",
     "text": [
      "Recommendation for Star Wars: Episode IV - A New Hope (1977) : \n"
     ]
    },
    {
     "data": {
      "text/plain": "1171    Star Wars: Episode V - The Empire Strikes Back...\n1184    Star Wars: Episode VI - Return of the Jedi (1983)\n1173    Raiders of the Lost Ark (Indiana Jones and the...\n1263            Indiana Jones and the Last Crusade (1989)\n1212                               Terminator, The (1984)\n1188                                         Alien (1979)\n2543     Star Wars: Episode I - The Phantom Menace (1999)\n1242                            Back to the Future (1985)\n1175                                        Aliens (1986)\n537                                   Blade Runner (1982)\ndtype: object"
     },
     "metadata": {},
     "output_type": "display_data"
    }
   ],
   "source": [
    "cr = DistanceCollaborativeRecommender(pivot_csc, movie_names, type_of_recommendation=\"Item\", metric = \"pearson\")\n",
    "item, recommendation = cr.get_recommendation(\"Star Wars\")\n",
    "\n",
    "print(\"Recommendation for\", item, \": \")\n",
    "\n",
    "display(recommendation)"
   ]
  },
  {
   "cell_type": "code",
   "execution_count": 11,
   "metadata": {
    "ExecuteTime": {
     "end_time": "2024-01-11T15:00:06.997030400Z",
     "start_time": "2024-01-11T15:00:06.751819700Z"
    }
   },
   "outputs": [
    {
     "name": "stdout",
     "output_type": "stream",
     "text": [
      "Recommendation for Star Wars: Episode IV - A New Hope (1977) : \n"
     ]
    },
    {
     "data": {
      "text/plain": "1171    Star Wars: Episode V - The Empire Strikes Back...\n1184    Star Wars: Episode VI - Return of the Jedi (1983)\n1173    Raiders of the Lost Ark (Indiana Jones and the...\n1242                            Back to the Future (1985)\n1263            Indiana Jones and the Last Crusade (1989)\n1212                               Terminator, The (1984)\n2486                                   Matrix, The (1999)\n1188                                         Alien (1979)\n0                                        Toy Story (1995)\n767                  Independence Day (a.k.a. ID4) (1996)\ndtype: object"
     },
     "metadata": {},
     "output_type": "display_data"
    }
   ],
   "source": [
    "cr = DistanceCollaborativeRecommender(pivot_csc, movie_names, type_of_recommendation=\"Item\", metric = \"cosine\")\n",
    "item, recommendation = cr.get_recommendation(\"Star Wars\")\n",
    "\n",
    "print(\"Recommendation for\", item, \": \")\n",
    "\n",
    "display(recommendation)"
   ]
  },
  {
   "cell_type": "markdown",
   "metadata": {},
   "source": [
    "##### Consideration about cosine similarity\n",
    "\n",
    "A important information is cosine similarity dont considers magnitude, i.e. if a user rate all films they see with 0, is perfectly similar to another user who rates all the same films as 5, is important considers the rating of a film, but the users are similars in some way, when you focus in watched movies.\n",
    "\n",
    "Cosine Similarity can be a bit dangerous, but if you know the risks, you can consider using this metric.\n"
   ]
  },
  {
   "cell_type": "markdown",
   "metadata": {},
   "source": [
    "### User-Based\n"
   ]
  },
  {
   "cell_type": "code",
   "execution_count": 12,
   "metadata": {
    "ExecuteTime": {
     "end_time": "2024-01-11T15:00:11.005577500Z",
     "start_time": "2024-01-11T15:00:07.022276500Z"
    }
   },
   "outputs": [
    {
     "name": "stdout",
     "output_type": "stream",
     "text": [
      "Recommendation for user 357 : \n"
     ]
    },
    {
     "data": {
      "text/plain": "2486                                   Matrix, The (1999)\n293                                   Pulp Fiction (1994)\n1184    Star Wars: Episode VI - Return of the Jedi (1983)\n587                      Silence of the Lambs, The (1991)\n315                      Shawshank Redemption, The (1994)\n352                                   Forrest Gump (1994)\n476                                  Jurassic Park (1993)\n108                                     Braveheart (1995)\n523                               Schindler's List (1993)\n843                                 Godfather, The (1972)\ndtype: object"
     },
     "metadata": {},
     "output_type": "display_data"
    },
    {
     "name": "stdout",
     "output_type": "stream",
     "text": [
      "Watched Movies by user 357 : \n"
     ]
    },
    {
     "data": {
      "text/plain": "                                                title  rating\n9506190                                   Dune (1984)     5.0\n6485179                                  Alien (1979)     5.0\n11255339        Rocky Horror Picture Show, The (1975)     5.0\n2216434                 Star Trek: Generations (1994)     5.0\n9429077             Back to the Future Part II (1989)     5.0\n7630639          Star Trek IV: The Voyage Home (1986)     5.0\n7619820    Star Trek III: The Search for Spock (1984)     5.0\n12081936                      Dirty Dozen, The (1967)     5.0\n9486869   Seven Samurai (Shichinin no samurai) (1954)     5.0\n7350271     Butch Cassidy and the Sundance Kid (1969)     5.0",
      "text/html": "<div>\n<style scoped>\n    .dataframe tbody tr th:only-of-type {\n        vertical-align: middle;\n    }\n\n    .dataframe tbody tr th {\n        vertical-align: top;\n    }\n\n    .dataframe thead th {\n        text-align: right;\n    }\n</style>\n<table border=\"1\" class=\"dataframe\">\n  <thead>\n    <tr style=\"text-align: right;\">\n      <th></th>\n      <th>title</th>\n      <th>rating</th>\n    </tr>\n  </thead>\n  <tbody>\n    <tr>\n      <th>9506190</th>\n      <td>Dune (1984)</td>\n      <td>5.0</td>\n    </tr>\n    <tr>\n      <th>6485179</th>\n      <td>Alien (1979)</td>\n      <td>5.0</td>\n    </tr>\n    <tr>\n      <th>11255339</th>\n      <td>Rocky Horror Picture Show, The (1975)</td>\n      <td>5.0</td>\n    </tr>\n    <tr>\n      <th>2216434</th>\n      <td>Star Trek: Generations (1994)</td>\n      <td>5.0</td>\n    </tr>\n    <tr>\n      <th>9429077</th>\n      <td>Back to the Future Part II (1989)</td>\n      <td>5.0</td>\n    </tr>\n    <tr>\n      <th>7630639</th>\n      <td>Star Trek IV: The Voyage Home (1986)</td>\n      <td>5.0</td>\n    </tr>\n    <tr>\n      <th>7619820</th>\n      <td>Star Trek III: The Search for Spock (1984)</td>\n      <td>5.0</td>\n    </tr>\n    <tr>\n      <th>12081936</th>\n      <td>Dirty Dozen, The (1967)</td>\n      <td>5.0</td>\n    </tr>\n    <tr>\n      <th>9486869</th>\n      <td>Seven Samurai (Shichinin no samurai) (1954)</td>\n      <td>5.0</td>\n    </tr>\n    <tr>\n      <th>7350271</th>\n      <td>Butch Cassidy and the Sundance Kid (1969)</td>\n      <td>5.0</td>\n    </tr>\n  </tbody>\n</table>\n</div>"
     },
     "execution_count": 12,
     "metadata": {},
     "output_type": "execute_result"
    }
   ],
   "source": [
    "cr3 = DistanceCollaborativeRecommender(pivot_csr, itemNames = movie_names, userNames = user_names, \n",
    "                               type_of_recommendation=\"User\", metric = \"cosine\")\n",
    "\n",
    "user, recommendation, values = cr3.get_recommendation(357, need_numeric= True)\n",
    "\n",
    "print(\"Recommendation for user\", user, \": \")\n",
    "\n",
    "display(pd.Series(recommendation))\n",
    "\n",
    "print(\"Watched Movies by user\", user, \": \")\n",
    "\n",
    "users_to_validate[users_to_validate[\"userId\"] == user][[\"title\", \"rating\"]].sort_values(by = \"rating\", ascending = False)[:10]"
   ]
  },
  {
   "cell_type": "code",
   "execution_count": 13,
   "metadata": {
    "ExecuteTime": {
     "end_time": "2024-01-11T15:00:15.371279400Z",
     "start_time": "2024-01-11T15:00:10.992802100Z"
    }
   },
   "outputs": [
    {
     "name": "stdout",
     "output_type": "stream",
     "text": [
      "Recommendation for 22006 : \n"
     ]
    },
    {
     "data": {
      "text/plain": "293                                   Pulp Fiction (1994)\n315                      Shawshank Redemption, The (1994)\n352                                   Forrest Gump (1994)\n587                      Silence of the Lambs, The (1991)\n257             Star Wars: Episode IV - A New Hope (1977)\n2486                                   Matrix, The (1999)\n476                                  Jurassic Park (1993)\n1171    Star Wars: Episode V - The Empire Strikes Back...\n523                               Schindler's List (1993)\n49                             Usual Suspects, The (1995)\ndtype: object"
     },
     "metadata": {},
     "output_type": "display_data"
    },
    {
     "name": "stdout",
     "output_type": "stream",
     "text": [
      "Watched Movies by user 22006 : \n"
     ]
    },
    {
     "data": {
      "text/plain": "                                                      title  rating\n19419164                                      Avatar (2009)     5.0\n3878455                   Terminator 2: Judgment Day (1991)     5.0\n7394936                      Alien³ (a.k.a. Alien 3) (1992)     5.0\n12464855                               Sleepy Hollow (1999)     5.0\n6409207   Star Wars: Episode VI - Return of the Jedi (1983)     5.0\n4905311                               Godfather, The (1972)     5.0\n14255593                  O Brother, Where Art Thou? (2000)     5.0\n14394590                                    Hannibal (2001)     5.0\n3973867                                       Batman (1989)     5.0\n4192005                                        Fargo (1996)     5.0",
      "text/html": "<div>\n<style scoped>\n    .dataframe tbody tr th:only-of-type {\n        vertical-align: middle;\n    }\n\n    .dataframe tbody tr th {\n        vertical-align: top;\n    }\n\n    .dataframe thead th {\n        text-align: right;\n    }\n</style>\n<table border=\"1\" class=\"dataframe\">\n  <thead>\n    <tr style=\"text-align: right;\">\n      <th></th>\n      <th>title</th>\n      <th>rating</th>\n    </tr>\n  </thead>\n  <tbody>\n    <tr>\n      <th>19419164</th>\n      <td>Avatar (2009)</td>\n      <td>5.0</td>\n    </tr>\n    <tr>\n      <th>3878455</th>\n      <td>Terminator 2: Judgment Day (1991)</td>\n      <td>5.0</td>\n    </tr>\n    <tr>\n      <th>7394936</th>\n      <td>Alien³ (a.k.a. Alien 3) (1992)</td>\n      <td>5.0</td>\n    </tr>\n    <tr>\n      <th>12464855</th>\n      <td>Sleepy Hollow (1999)</td>\n      <td>5.0</td>\n    </tr>\n    <tr>\n      <th>6409207</th>\n      <td>Star Wars: Episode VI - Return of the Jedi (1983)</td>\n      <td>5.0</td>\n    </tr>\n    <tr>\n      <th>4905311</th>\n      <td>Godfather, The (1972)</td>\n      <td>5.0</td>\n    </tr>\n    <tr>\n      <th>14255593</th>\n      <td>O Brother, Where Art Thou? (2000)</td>\n      <td>5.0</td>\n    </tr>\n    <tr>\n      <th>14394590</th>\n      <td>Hannibal (2001)</td>\n      <td>5.0</td>\n    </tr>\n    <tr>\n      <th>3973867</th>\n      <td>Batman (1989)</td>\n      <td>5.0</td>\n    </tr>\n    <tr>\n      <th>4192005</th>\n      <td>Fargo (1996)</td>\n      <td>5.0</td>\n    </tr>\n  </tbody>\n</table>\n</div>"
     },
     "execution_count": 13,
     "metadata": {},
     "output_type": "execute_result"
    }
   ],
   "source": [
    "cr3 = DistanceCollaborativeRecommender(pivot_csr, itemNames = movie_names, userNames = user_names, \n",
    "                               type_of_recommendation=\"User\", metric = \"cosine\")\n",
    "\n",
    "user, recommendation = cr3.get_recommendation(22006)\n",
    "\n",
    "print(\"Recommendation for\", user, \": \")\n",
    "\n",
    "display(pd.Series(recommendation))\n",
    "\n",
    "print(\"Watched Movies by user\", user, \": \")\n",
    "\n",
    "users_to_validate[users_to_validate[\"userId\"] == user][[\"title\", \"rating\"]].sort_values(by = \"rating\", ascending = False)[:10]"
   ]
  },
  {
   "cell_type": "code",
   "execution_count": 14,
   "metadata": {
    "ExecuteTime": {
     "end_time": "2024-01-11T15:00:19.496925800Z",
     "start_time": "2024-01-11T15:00:15.345426700Z"
    }
   },
   "outputs": [
    {
     "name": "stdout",
     "output_type": "stream",
     "text": [
      "Recommendation for 3400 : \n"
     ]
    },
    {
     "data": {
      "text/plain": "108                                     Braveheart (1995)\n49                             Usual Suspects, The (1995)\n2486                                   Matrix, The (1999)\n1184    Star Wars: Episode VI - Return of the Jedi (1983)\n2772                               American Beauty (1999)\n0                                        Toy Story (1995)\n148                                      Apollo 13 (1995)\n46                            Seven (a.k.a. Se7en) (1995)\n31              Twelve Monkeys (a.k.a. 12 Monkeys) (1995)\n2676                              Sixth Sense, The (1999)\ndtype: object"
     },
     "metadata": {},
     "output_type": "display_data"
    },
    {
     "name": "stdout",
     "output_type": "stream",
     "text": [
      "Watched Movies by user 3400 : \n"
     ]
    },
    {
     "data": {
      "text/plain": "                                   title  rating\n5486610       Sound of Music, The (1965)     5.0\n5159865        Gone with the Wind (1939)     5.0\n6714872                Sting, The (1973)     5.0\n11787151       Christmas Story, A (1983)     5.0\n6639642                   Amadeus (1984)     5.0\n5076531                Casablanca (1942)     5.0\n6578080   Godfather: Part II, The (1974)     5.0\n5112673              My Fair Lady (1964)     5.0\n5136666         Wizard of Oz, The (1939)     5.0\n6359740     To Kill a Mockingbird (1962)     5.0",
      "text/html": "<div>\n<style scoped>\n    .dataframe tbody tr th:only-of-type {\n        vertical-align: middle;\n    }\n\n    .dataframe tbody tr th {\n        vertical-align: top;\n    }\n\n    .dataframe thead th {\n        text-align: right;\n    }\n</style>\n<table border=\"1\" class=\"dataframe\">\n  <thead>\n    <tr style=\"text-align: right;\">\n      <th></th>\n      <th>title</th>\n      <th>rating</th>\n    </tr>\n  </thead>\n  <tbody>\n    <tr>\n      <th>5486610</th>\n      <td>Sound of Music, The (1965)</td>\n      <td>5.0</td>\n    </tr>\n    <tr>\n      <th>5159865</th>\n      <td>Gone with the Wind (1939)</td>\n      <td>5.0</td>\n    </tr>\n    <tr>\n      <th>6714872</th>\n      <td>Sting, The (1973)</td>\n      <td>5.0</td>\n    </tr>\n    <tr>\n      <th>11787151</th>\n      <td>Christmas Story, A (1983)</td>\n      <td>5.0</td>\n    </tr>\n    <tr>\n      <th>6639642</th>\n      <td>Amadeus (1984)</td>\n      <td>5.0</td>\n    </tr>\n    <tr>\n      <th>5076531</th>\n      <td>Casablanca (1942)</td>\n      <td>5.0</td>\n    </tr>\n    <tr>\n      <th>6578080</th>\n      <td>Godfather: Part II, The (1974)</td>\n      <td>5.0</td>\n    </tr>\n    <tr>\n      <th>5112673</th>\n      <td>My Fair Lady (1964)</td>\n      <td>5.0</td>\n    </tr>\n    <tr>\n      <th>5136666</th>\n      <td>Wizard of Oz, The (1939)</td>\n      <td>5.0</td>\n    </tr>\n    <tr>\n      <th>6359740</th>\n      <td>To Kill a Mockingbird (1962)</td>\n      <td>5.0</td>\n    </tr>\n  </tbody>\n</table>\n</div>"
     },
     "execution_count": 14,
     "metadata": {},
     "output_type": "execute_result"
    }
   ],
   "source": [
    "cr3 = DistanceCollaborativeRecommender(pivot_csr, itemNames = movie_names, userNames = user_names, \n",
    "                               type_of_recommendation=\"User\", metric = \"cosine\")\n",
    "\n",
    "user, recommendation = cr3.get_recommendation(3400)\n",
    "\n",
    "print(\"Recommendation for\", user, \": \")\n",
    "\n",
    "display(pd.Series(recommendation))\n",
    "\n",
    "print(\"Watched Movies by user\", user, \": \")\n",
    "\n",
    "users_to_validate[users_to_validate[\"userId\"] == user][[\"title\", \"rating\"]].sort_values(by = \"rating\", ascending = False)[:10]"
   ]
  },
  {
   "cell_type": "code",
   "execution_count": 15,
   "metadata": {
    "ExecuteTime": {
     "end_time": "2024-01-11T15:00:19.512440Z",
     "start_time": "2024-01-11T15:00:19.441439400Z"
    }
   },
   "outputs": [
    {
     "data": {
      "text/plain": "(138493, 26729)"
     },
     "execution_count": 15,
     "metadata": {},
     "output_type": "execute_result"
    }
   ],
   "source": [
    "pivot_csc.shape\n",
    "# OLD - 2084 Movies and 138300 Users\n",
    "# NEW - 26729 Movies and 138493 Users\n",
    "# OBS = Cosine and pearson with same result for users"
   ]
  },
  {
   "cell_type": "code",
   "execution_count": 16,
   "metadata": {
    "ExecuteTime": {
     "end_time": "2024-01-11T15:00:19.543084300Z",
     "start_time": "2024-01-11T15:00:19.457276100Z"
    }
   },
   "outputs": [],
   "source": [
    "del pivot_csc, pivot_csr, users_to_validate, recommendation, user_names, movie_names"
   ]
  },
  {
   "cell_type": "markdown",
   "source": [
    "### AMAZON BOOKS\n",
    "\n",
    "The amazon books dataset is a well formatted dataset, with a lot of informations i remove previously, maintaining just the essential to recommend in this notebook. I also perform multiple tests to be safe the pivot table are correct."
   ],
   "metadata": {
    "collapsed": false
   }
  },
  {
   "cell_type": "code",
   "execution_count": 17,
   "outputs": [
    {
     "data": {
      "text/plain": "                            Title          Id         User_id  review/score\n0  Its Only Art If Its Well Hung!  1882931173   AVCGYZL8FQQTD           4.0\n1        Dr. Seuss: American Icon  0826414346  A30TK6U7DNS82R           5.0\n2        Dr. Seuss: American Icon  0826414346  A3UH4UZ4RSVO82           5.0\n3        Dr. Seuss: American Icon  0826414346  A2MVUWT453QH61           4.0\n4        Dr. Seuss: American Icon  0826414346  A22X4XUPKF66MR           4.0",
      "text/html": "<div>\n<style scoped>\n    .dataframe tbody tr th:only-of-type {\n        vertical-align: middle;\n    }\n\n    .dataframe tbody tr th {\n        vertical-align: top;\n    }\n\n    .dataframe thead th {\n        text-align: right;\n    }\n</style>\n<table border=\"1\" class=\"dataframe\">\n  <thead>\n    <tr style=\"text-align: right;\">\n      <th></th>\n      <th>Title</th>\n      <th>Id</th>\n      <th>User_id</th>\n      <th>review/score</th>\n    </tr>\n  </thead>\n  <tbody>\n    <tr>\n      <th>0</th>\n      <td>Its Only Art If Its Well Hung!</td>\n      <td>1882931173</td>\n      <td>AVCGYZL8FQQTD</td>\n      <td>4.0</td>\n    </tr>\n    <tr>\n      <th>1</th>\n      <td>Dr. Seuss: American Icon</td>\n      <td>0826414346</td>\n      <td>A30TK6U7DNS82R</td>\n      <td>5.0</td>\n    </tr>\n    <tr>\n      <th>2</th>\n      <td>Dr. Seuss: American Icon</td>\n      <td>0826414346</td>\n      <td>A3UH4UZ4RSVO82</td>\n      <td>5.0</td>\n    </tr>\n    <tr>\n      <th>3</th>\n      <td>Dr. Seuss: American Icon</td>\n      <td>0826414346</td>\n      <td>A2MVUWT453QH61</td>\n      <td>4.0</td>\n    </tr>\n    <tr>\n      <th>4</th>\n      <td>Dr. Seuss: American Icon</td>\n      <td>0826414346</td>\n      <td>A22X4XUPKF66MR</td>\n      <td>4.0</td>\n    </tr>\n  </tbody>\n</table>\n</div>"
     },
     "execution_count": 17,
     "metadata": {},
     "output_type": "execute_result"
    }
   ],
   "source": [
    "ratings = pd.read_csv(\"../Datasets/Amazon Books/simple_ratings.csv\")\n",
    "\n",
    "ratings.head()"
   ],
   "metadata": {
    "collapsed": false,
    "ExecuteTime": {
     "end_time": "2024-01-11T15:00:20.000811500Z",
     "start_time": "2024-01-11T15:00:19.471813300Z"
    }
   }
  },
  {
   "cell_type": "code",
   "execution_count": 18,
   "outputs": [
    {
     "name": "stdout",
     "output_type": "stream",
     "text": [
      "<class 'pandas.core.frame.DataFrame'>\n",
      "Index: 461962 entries, 0 to 574999\n",
      "Data columns (total 4 columns):\n",
      " #   Column        Non-Null Count   Dtype  \n",
      "---  ------        --------------   -----  \n",
      " 0   Title         461962 non-null  object \n",
      " 1   Id            461962 non-null  object \n",
      " 2   User_id       461962 non-null  object \n",
      " 3   review/score  461962 non-null  float64\n",
      "dtypes: float64(1), object(3)\n",
      "memory usage: 17.6+ MB\n"
     ]
    }
   ],
   "source": [
    "ratings.dropna(axis = 0, inplace = True)\n",
    "\n",
    "ratings.info()\n",
    "\n",
    "data = ratings.copy()"
   ],
   "metadata": {
    "collapsed": false,
    "ExecuteTime": {
     "end_time": "2024-01-11T15:00:20.184789700Z",
     "start_time": "2024-01-11T15:00:20.002716300Z"
    }
   }
  },
  {
   "cell_type": "code",
   "execution_count": 19,
   "outputs": [],
   "source": [
    "user_names, item_names, sparse_matrix = sparse_pivot_table(data, \"User_id\", \"Title\", \"review/score\")"
   ],
   "metadata": {
    "collapsed": false,
    "ExecuteTime": {
     "end_time": "2024-01-11T15:00:20.952527900Z",
     "start_time": "2024-01-11T15:00:20.157561200Z"
    }
   }
  },
  {
   "cell_type": "code",
   "execution_count": 20,
   "outputs": [
    {
     "name": "stdout",
     "output_type": "stream",
     "text": [
      "Recommendation for Star Wars Tales of the Jedi: Dark Lords of the Sith : \n"
     ]
    },
    {
     "data": {
      "text/plain": "30232      Heirs of the Force Star Wars Young Jedi Knights\n8975     The Glove of Darth Vader (Star Wars Jedi Princ...\n26608            Silent Coup: The Removal of Richard Nixon\n18238       The Battle of Corrin (Legends of Dune, Book 3)\n31371    Star Wars Njo Force Heretic Remnant 1 (Star Wa...\n34121                                       Atlas Shrugged\n35729                Harry Potter and The Sorcerer's Stone\n26172                   Memorix Neurology (Memorix Series)\n26173    Time to Tell 'Em Off! A Pocket Guide to Overco...\n26174              The Tiny Kitchen Cooking & Entertaining\ndtype: object"
     },
     "metadata": {},
     "output_type": "display_data"
    }
   ],
   "source": [
    "cr = DistanceCollaborativeRecommender(sparse_matrix.tocsc(), itemNames = item_names, userNames = user_names, \n",
    "                               type_of_recommendation=\"Item\", metric = \"cosine\")\n",
    "\n",
    "item, recommendation = cr.get_recommendation(\"Star Wars\")\n",
    "\n",
    "print(\"Recommendation for\", item, \": \")\n",
    "\n",
    "display(recommendation)"
   ],
   "metadata": {
    "collapsed": false,
    "ExecuteTime": {
     "end_time": "2024-01-11T15:00:21.090499200Z",
     "start_time": "2024-01-11T15:00:20.953525Z"
    }
   }
  },
  {
   "cell_type": "code",
   "execution_count": 21,
   "outputs": [
    {
     "name": "stdout",
     "output_type": "stream",
     "text": [
      "Recommendation for user A3B25NK1NTDS4M : \n"
     ]
    },
    {
     "data": {
      "text/plain": "6741         Farewell, my lovely\n11968               The Thin Man\n12686              The Glass Key\n34539                  Big Sleep\n34729         Farewell My Lovely\n10861        Farewell, My Lovely\n30693             The Dain Curse\n30393    Great Gatsby (Everyman)\n19225           The Great Gatsby\n1224              Fahrenheit 451\ndtype: object"
     },
     "metadata": {},
     "output_type": "display_data"
    }
   ],
   "source": [
    "cr = DistanceCollaborativeRecommender(sparse_matrix, itemNames = item_names, userNames = user_names, \n",
    "                               type_of_recommendation=\"User\", metric = \"cosine\")\n",
    "\n",
    "user, recommendation, values = cr.get_recommendation(\"A3B25NK1NTDS4M\", need_numeric= True)\n",
    "\n",
    "print(\"Recommendation for user\", user, \": \")\n",
    "\n",
    "display(pd.Series(recommendation))"
   ],
   "metadata": {
    "collapsed": false,
    "ExecuteTime": {
     "end_time": "2024-01-11T15:00:26.373374400Z",
     "start_time": "2024-01-11T15:00:21.091499800Z"
    }
   }
  },
  {
   "cell_type": "code",
   "execution_count": 22,
   "outputs": [],
   "source": [
    "del ratings, user,item, recommendation, user_names, item_names, sparse_matrix, data\n"
   ],
   "metadata": {
    "collapsed": false,
    "ExecuteTime": {
     "end_time": "2024-01-11T15:00:26.421550500Z",
     "start_time": "2024-01-11T15:00:26.366256200Z"
    }
   }
  },
  {
   "cell_type": "markdown",
   "source": [
    "### STEAM GAMES\n",
    "\n",
    "Steam Games dataset dont has review information, but has hours played information, so i use the hours instead of reviews in the pivot table."
   ],
   "metadata": {
    "collapsed": false
   }
  },
  {
   "cell_type": "code",
   "execution_count": 23,
   "outputs": [
    {
     "name": "stdout",
     "output_type": "stream",
     "text": [
      "<class 'pandas.core.frame.DataFrame'>\n",
      "RangeIndex: 200000 entries, 0 to 199999\n",
      "Data columns (total 4 columns):\n",
      " #   Column     Non-Null Count   Dtype  \n",
      "---  ------     --------------   -----  \n",
      " 0   User_ID    200000 non-null  int64  \n",
      " 1   Game_Name  200000 non-null  object \n",
      " 2   Action     200000 non-null  object \n",
      " 3   Hours      200000 non-null  float64\n",
      "dtypes: float64(1), int64(1), object(2)\n",
      "memory usage: 6.1+ MB\n"
     ]
    }
   ],
   "source": [
    "transactions =  pd.read_csv(\"../Datasets/Games/new_transactions.csv\")\n",
    "\n",
    "transactions.info()"
   ],
   "metadata": {
    "collapsed": false,
    "ExecuteTime": {
     "end_time": "2024-01-11T15:00:26.521776300Z",
     "start_time": "2024-01-11T15:00:26.393175700Z"
    }
   }
  },
  {
   "cell_type": "code",
   "execution_count": 24,
   "outputs": [
    {
     "data": {
      "text/plain": "     User_ID                   Game_Name    Action  Hours\n0  151603712  The Elder Scrolls V Skyrim  purchase    1.0\n1  151603712  The Elder Scrolls V Skyrim      play  273.0\n2  151603712                   Fallout 4  purchase    1.0\n3  151603712                   Fallout 4      play   87.0\n4  151603712                       Spore  purchase    1.0",
      "text/html": "<div>\n<style scoped>\n    .dataframe tbody tr th:only-of-type {\n        vertical-align: middle;\n    }\n\n    .dataframe tbody tr th {\n        vertical-align: top;\n    }\n\n    .dataframe thead th {\n        text-align: right;\n    }\n</style>\n<table border=\"1\" class=\"dataframe\">\n  <thead>\n    <tr style=\"text-align: right;\">\n      <th></th>\n      <th>User_ID</th>\n      <th>Game_Name</th>\n      <th>Action</th>\n      <th>Hours</th>\n    </tr>\n  </thead>\n  <tbody>\n    <tr>\n      <th>0</th>\n      <td>151603712</td>\n      <td>The Elder Scrolls V Skyrim</td>\n      <td>purchase</td>\n      <td>1.0</td>\n    </tr>\n    <tr>\n      <th>1</th>\n      <td>151603712</td>\n      <td>The Elder Scrolls V Skyrim</td>\n      <td>play</td>\n      <td>273.0</td>\n    </tr>\n    <tr>\n      <th>2</th>\n      <td>151603712</td>\n      <td>Fallout 4</td>\n      <td>purchase</td>\n      <td>1.0</td>\n    </tr>\n    <tr>\n      <th>3</th>\n      <td>151603712</td>\n      <td>Fallout 4</td>\n      <td>play</td>\n      <td>87.0</td>\n    </tr>\n    <tr>\n      <th>4</th>\n      <td>151603712</td>\n      <td>Spore</td>\n      <td>purchase</td>\n      <td>1.0</td>\n    </tr>\n  </tbody>\n</table>\n</div>"
     },
     "execution_count": 24,
     "metadata": {},
     "output_type": "execute_result"
    }
   ],
   "source": [
    "transactions.head()"
   ],
   "metadata": {
    "collapsed": false,
    "ExecuteTime": {
     "end_time": "2024-01-11T15:00:26.561138700Z",
     "start_time": "2024-01-11T15:00:26.518779600Z"
    }
   }
  },
  {
   "cell_type": "code",
   "execution_count": 25,
   "outputs": [],
   "source": [
    "games_hours = transactions.drop(axis = 0, index = transactions[transactions[\"Action\"] == \"purchase\"].index)[[\"User_ID\", \"Game_Name\", \"Hours\"]]\n",
    "\n",
    "first_cut =  games_hours[[\"Game_Name\", \"Hours\"]].groupby([\"Game_Name\"]).quantile(0.3)\n",
    "median_ =    games_hours[[\"Game_Name\", \"Hours\"]].groupby([\"Game_Name\"]).quantile(0.5)\n",
    "third_cut =  games_hours[[\"Game_Name\", \"Hours\"]].groupby([\"Game_Name\"]).quantile(0.65)\n",
    "fourth_cut = games_hours[[\"Game_Name\", \"Hours\"]].groupby([\"Game_Name\"]).quantile(0.90)"
   ],
   "metadata": {
    "collapsed": false,
    "ExecuteTime": {
     "end_time": "2024-01-11T15:00:26.683824600Z",
     "start_time": "2024-01-11T15:00:26.534372700Z"
    }
   }
  },
  {
   "cell_type": "code",
   "execution_count": 26,
   "outputs": [],
   "source": [
    "games_hours[\"HLow_Played\"] = 0\n",
    "games_hours[\"HLow_Played\"] = games_hours.apply(\n",
    "                                        lambda x: 1\n",
    "                                        if 0 < x[\"Hours\"] > 0\n",
    "                                        else 0,\n",
    "                                        axis = 1)\n",
    "\n",
    "games_hours[\"Low_Played\"] = 0\n",
    "games_hours[\"Low_Played\"] = games_hours.apply(\n",
    "                                        lambda x: 1\n",
    "                                        if 0 < x[\"Hours\"] >= first_cut.loc[x[\"Game_Name\"]].iloc[0]\n",
    "                                        else 0,\n",
    "                                        axis = 1)\n",
    "\n",
    "games_hours[\"Mid_Played\"] = 0\n",
    "games_hours[\"Mid_Played\"] = games_hours.apply(\n",
    "                                        lambda x: 1\n",
    "                                        if 0 < x[\"Hours\"] >= median_.loc[x[\"Game_Name\"]].iloc[0]\n",
    "                                        else 0,\n",
    "                                        axis = 1)\n",
    "\n",
    "games_hours[\"High_Played\"] = 0\n",
    "games_hours[\"High_Played\"] = games_hours.apply(\n",
    "                                        lambda x: 1\n",
    "                                        if x[\"Hours\"] >= third_cut.loc[x[\"Game_Name\"]].iloc[0]\n",
    "                                        else 0,\n",
    "                                        axis = 1)\n",
    "\n",
    "games_hours[\"Extr_Played\"] = 0\n",
    "games_hours[\"Extr_Played\"] = games_hours.apply(\n",
    "                                        lambda x: 1\n",
    "                                        if x[\"Hours\"] >= fourth_cut.loc[x[\"Game_Name\"]].iloc[0]\n",
    "                                        else 0,\n",
    "                                        axis = 1)\n",
    "\n",
    "games_hours[\"Played\"] = (games_hours[\"HLow_Played\"] + games_hours[\"Low_Played\"] + \n",
    "                         games_hours[\"Mid_Played\"] + games_hours[\"High_Played\"] + games_hours[\"Extr_Played\"])\n",
    "\n",
    "games_hours.drop(axis = 1, columns = [\"HLow_Played\", \"Low_Played\", \"Mid_Played\", \"High_Played\", \"Extr_Played\"], inplace = True)"
   ],
   "metadata": {
    "collapsed": false,
    "ExecuteTime": {
     "end_time": "2024-01-11T15:00:37.908731400Z",
     "start_time": "2024-01-11T15:00:26.677829900Z"
    }
   }
  },
  {
   "cell_type": "code",
   "execution_count": 27,
   "outputs": [],
   "source": [
    "data = games_hours.copy()\n",
    "\n",
    "data[\"User_ID\"] = data[\"User_ID\"].astype(str)\n",
    "\n",
    "user_names, item_names, sparse_matrix = sparse_pivot_table(data, \"User_ID\", \"Game_Name\", \"Played\")"
   ],
   "metadata": {
    "collapsed": false,
    "ExecuteTime": {
     "end_time": "2024-01-11T15:00:38.015948400Z",
     "start_time": "2024-01-11T15:00:37.910739400Z"
    }
   }
  },
  {
   "cell_type": "code",
   "execution_count": 28,
   "outputs": [
    {
     "name": "stdout",
     "output_type": "stream",
     "text": [
      "Recommendation for Dota 2 : \n"
     ]
    },
    {
     "data": {
      "text/plain": "39     Counter-Strike Global Offensive\n9                      Team Fortress 2\n4                        Left 4 Dead 2\n485                           Warframe\n280                           PAYDAY 2\n240                           Unturned\n24                         Garry's Mod\n154                      Borderlands 2\n248                        War Thunder\n0           The Elder Scrolls V Skyrim\ndtype: object"
     },
     "metadata": {},
     "output_type": "display_data"
    }
   ],
   "source": [
    "cr = DistanceCollaborativeRecommender(sparse_matrix.tocsc(), itemNames = item_names, userNames = user_names, \n",
    "                               type_of_recommendation=\"Item\", metric = \"cosine\")\n",
    "\n",
    "item, recommendation = cr.get_recommendation(\"Dota 2\")\n",
    "\n",
    "print(\"Recommendation for\", item, \": \")\n",
    "\n",
    "display(recommendation)"
   ],
   "metadata": {
    "collapsed": false,
    "ExecuteTime": {
     "end_time": "2024-01-11T15:00:38.073941900Z",
     "start_time": "2024-01-11T15:00:38.018211Z"
    }
   }
  },
  {
   "cell_type": "code",
   "execution_count": 29,
   "outputs": [
    {
     "name": "stdout",
     "output_type": "stream",
     "text": [
      "Recommendation for user 161896440 : \n"
     ]
    },
    {
     "data": {
      "text/plain": "9                      Team Fortress 2\n21                              Dota 2\n0           The Elder Scrolls V Skyrim\n39     Counter-Strike Global Offensive\n4                        Left 4 Dead 2\n154                      Borderlands 2\n62                            Portal 2\n24                         Garry's Mod\n280                           PAYDAY 2\n120                             Portal\ndtype: object"
     },
     "metadata": {},
     "output_type": "display_data"
    }
   ],
   "source": [
    "cr = DistanceCollaborativeRecommender(sparse_matrix, itemNames = item_names, userNames = user_names, \n",
    "                               type_of_recommendation=\"User\", metric = \"cosine\")\n",
    "\n",
    "user, recommendation, values = cr.get_recommendation(\"161896440\", need_numeric= True)\n",
    "\n",
    "print(\"Recommendation for user\", user, \": \")\n",
    "\n",
    "display(pd.Series(recommendation))"
   ],
   "metadata": {
    "collapsed": false,
    "ExecuteTime": {
     "end_time": "2024-01-11T15:00:38.551245600Z",
     "start_time": "2024-01-11T15:00:38.046871Z"
    }
   }
  },
  {
   "cell_type": "markdown",
   "source": [],
   "metadata": {
    "collapsed": false
   }
  },
  {
   "cell_type": "markdown",
   "metadata": {},
   "source": [
    "### OK\n",
    "#### tests for other datasets - Focus - depois separa ipynbs para cada dataset\n",
    "##### Amazon Books, Anime and Steam Datasets"
   ]
  }
 ],
 "metadata": {
  "kernelspec": {
   "display_name": "Python 3 (ipykernel)",
   "language": "python",
   "name": "python3"
  },
  "language_info": {
   "codemirror_mode": {
    "name": "ipython",
    "version": 3
   },
   "file_extension": ".py",
   "mimetype": "text/x-python",
   "name": "python",
   "nbconvert_exporter": "python",
   "pygments_lexer": "ipython3",
   "version": "3.10.7"
  }
 },
 "nbformat": 4,
 "nbformat_minor": 2
}
