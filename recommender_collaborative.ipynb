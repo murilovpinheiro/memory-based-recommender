{
 "cells": [
  {
   "cell_type": "markdown",
   "metadata": {},
   "source": [
    "### First Practice Activity of a Recommendation System\n",
    "\n",
    "To begin, my objective is learn about RecSystems with Reinforcement Learning, but as i don't know anything about RecSys or RL, i decided to understanding each term separately and, after that, finally study the two as a unique theme. Therefore, i will start with Recommendation System, due to the fact of be more simple than RL, beginning with all important definitions in these area of study."
   ]
  },
  {
   "cell_type": "markdown",
   "metadata": {},
   "source": [
    "#### First Ideas\n",
    "The basis of the recommendation system is \"What do you want to recommend, for whom, and how?\" you can find many ways to make recommendations.\n",
    "\n",
    "For example, if you have a client who watches a horror movie, you have two main ways to choose a recommendation for him. The first is to recommend other horror movies like the first one, i.e., similar items(films) to the original article in the interaction—that is an item-focused approach.\n",
    "\n",
    "In other cases, you wish to recommend movies watched by other users similar to the client who watches that horror movie; in that case, you use a User-focused approach.\n",
    "\n",
    "You can apply these approaches to different types of recommendation systems.\n",
    "\n",
    "\n",
    "Despite that, you have two ways to make a recommendation system: collaborative and content.\n",
    "\n",
    "##### Collaborative\n",
    "\n",
    "Collaborative Methods use past interactions between users and items to make new recommendations using a \"User-Item Interactions Matrix.\" In the middle of the recommendation, it uses the proximity between the users/items to predict. Is it possible to use a model-based approach or a metric to calculate the similarity and just use this metric.\n",
    "\n",
    "It has some issues, like problems with new Users and Items, but with other methods specific to further information that can surpass this problem.\n",
    "\n",
    "A lot of methods using a collaborative approach, such as:\n",
    "\n",
    "        - Memory Based\n",
    "        - Model-Based\n",
    "\n",
    "##### Content\n",
    "\n",
    "Content methods use additional information about users and/or items. In the movie example, you can have information about the Release Year, the Director, the Principal Actors, and many other data.\n",
    "\n",
    "These methods have much more information and don't suffer with new Users or Items too much because they "
   ]
  },
  {
   "cell_type": "markdown",
   "metadata": {},
   "source": [
    "### Practice\n",
    "\n",
    "I will use the most simple recommendation system for this first recommendation system, a memory-based collaborative model. These recommendation systems use just similarity metrics to make a recommendation, i.e., they don't have any ML model in the middle of the process as the simplest method is the most interesting way to new students like me.\n",
    "\n",
    "One of the problems of that method is the bad scalability with the new users and new itens, because of the pivot table."
   ]
  },
  {
   "cell_type": "markdown",
   "metadata": {},
   "source": [
    "How i gonna use a collaborative approach, i need just the information about the interactions user-item.\n",
    "\n",
    "I will use three datasets to test the recommendation:\n",
    "        --- IMDB Movies Dataset  - Reviews\n",
    "        --- Amazon Books Dataset - Reviews\n",
    "        --- Steam Games Dataset  - Hours Played"
   ]
  },
  {
   "cell_type": "code",
   "execution_count": 1,
   "outputs": [],
   "source": [
    "import pandas as pd\n",
    "import numpy as np\n",
    "from scipy.sparse import csr_matrix, csc_matrix\n",
    "from distanceRecommender import DistanceCollaborativeRecommender"
   ],
   "metadata": {
    "collapsed": false,
    "ExecuteTime": {
     "end_time": "2024-01-15T14:48:18.506918700Z",
     "start_time": "2024-01-15T14:48:17.453926400Z"
    }
   }
  },
  {
   "cell_type": "markdown",
   "source": [
    "### IMDB MOVIES"
   ],
   "metadata": {
    "collapsed": false
   }
  },
  {
   "cell_type": "code",
   "execution_count": 2,
   "metadata": {
    "ExecuteTime": {
     "end_time": "2024-01-15T14:48:29.021479200Z",
     "start_time": "2024-01-15T14:48:18.505013200Z"
    }
   },
   "outputs": [
    {
     "name": "stdout",
     "output_type": "stream",
     "text": [
      "<class 'pandas.core.frame.DataFrame'>\n",
      "RangeIndex: 27278 entries, 0 to 27277\n",
      "Data columns (total 3 columns):\n",
      " #   Column   Non-Null Count  Dtype \n",
      "---  ------   --------------  ----- \n",
      " 0   movieId  27278 non-null  int64 \n",
      " 1   title    27278 non-null  object\n",
      " 2   genres   27278 non-null  object\n",
      "dtypes: int64(1), object(2)\n",
      "memory usage: 639.5+ KB\n",
      "<class 'pandas.core.frame.DataFrame'>\n",
      "RangeIndex: 20000263 entries, 0 to 20000262\n",
      "Data columns (total 4 columns):\n",
      " #   Column     Dtype  \n",
      "---  ------     -----  \n",
      " 0   userId     int64  \n",
      " 1   movieId    int64  \n",
      " 2   rating     float64\n",
      " 3   timestamp  object \n",
      "dtypes: float64(1), int64(2), object(1)\n",
      "memory usage: 610.4+ MB\n"
     ]
    }
   ],
   "source": [
    "names = pd.read_csv(\"../Datasets/Movies IMDB/info.csv\")\n",
    "\n",
    "names.info()\n",
    "\n",
    "interactions = pd.read_csv(\"../Datasets/Movies IMDB/ratings.csv\")\n",
    "\n",
    "interactions.info()"
   ]
  },
  {
   "cell_type": "code",
   "execution_count": 3,
   "metadata": {
    "ExecuteTime": {
     "end_time": "2024-01-15T14:48:29.314998Z",
     "start_time": "2024-01-15T14:48:29.022478600Z"
    }
   },
   "outputs": [],
   "source": [
    "del interactions[\"timestamp\"]\n",
    "\n",
    "del names[\"genres\"]\n",
    "\n",
    "# Removing irrelevant information"
   ]
  },
  {
   "cell_type": "markdown",
   "metadata": {},
   "source": [
    "Merging the two dataframes in one"
   ]
  },
  {
   "cell_type": "code",
   "execution_count": 4,
   "metadata": {
    "ExecuteTime": {
     "end_time": "2024-01-15T14:48:31.410396400Z",
     "start_time": "2024-01-15T14:48:29.315996600Z"
    }
   },
   "outputs": [
    {
     "data": {
      "text/plain": "   movieId             title  userId  rating\n0        1  Toy Story (1995)       3     4.0\n1        1  Toy Story (1995)       6     5.0\n2        1  Toy Story (1995)       8     4.0\n3        1  Toy Story (1995)      10     4.0\n4        1  Toy Story (1995)      11     4.5",
      "text/html": "<div>\n<style scoped>\n    .dataframe tbody tr th:only-of-type {\n        vertical-align: middle;\n    }\n\n    .dataframe tbody tr th {\n        vertical-align: top;\n    }\n\n    .dataframe thead th {\n        text-align: right;\n    }\n</style>\n<table border=\"1\" class=\"dataframe\">\n  <thead>\n    <tr style=\"text-align: right;\">\n      <th></th>\n      <th>movieId</th>\n      <th>title</th>\n      <th>userId</th>\n      <th>rating</th>\n    </tr>\n  </thead>\n  <tbody>\n    <tr>\n      <th>0</th>\n      <td>1</td>\n      <td>Toy Story (1995)</td>\n      <td>3</td>\n      <td>4.0</td>\n    </tr>\n    <tr>\n      <th>1</th>\n      <td>1</td>\n      <td>Toy Story (1995)</td>\n      <td>6</td>\n      <td>5.0</td>\n    </tr>\n    <tr>\n      <th>2</th>\n      <td>1</td>\n      <td>Toy Story (1995)</td>\n      <td>8</td>\n      <td>4.0</td>\n    </tr>\n    <tr>\n      <th>3</th>\n      <td>1</td>\n      <td>Toy Story (1995)</td>\n      <td>10</td>\n      <td>4.0</td>\n    </tr>\n    <tr>\n      <th>4</th>\n      <td>1</td>\n      <td>Toy Story (1995)</td>\n      <td>11</td>\n      <td>4.5</td>\n    </tr>\n  </tbody>\n</table>\n</div>"
     },
     "execution_count": 4,
     "metadata": {},
     "output_type": "execute_result"
    }
   ],
   "source": [
    "data = pd.merge(names, interactions)\n",
    "\n",
    "del names, interactions\n",
    "\n",
    "data.head()"
   ]
  },
  {
   "cell_type": "code",
   "execution_count": 5,
   "metadata": {
    "ExecuteTime": {
     "end_time": "2024-01-15T14:48:31.553432400Z",
     "start_time": "2024-01-15T14:48:31.413390900Z"
    }
   },
   "outputs": [],
   "source": [
    "users_to_validate = data[data[\"userId\"].isin([357, 22006, 3400])]"
   ]
  },
  {
   "cell_type": "markdown",
   "metadata": {},
   "source": [
    "Taking a sample of 10 Million to reduce the dimensionality of the DataFrame"
   ]
  },
  {
   "cell_type": "markdown",
   "metadata": {},
   "source": [
    "Removing users with low count of reviews\n"
   ]
  },
  {
   "cell_type": "markdown",
   "source": [
    "Creating a pivot table with the format: \n",
    "    \n",
    "   - Rows: Users\n",
    "   - Columns: Items\n",
    "\n",
    "With this pivot we can make the recommendations."
   ],
   "metadata": {
    "collapsed": false
   }
  },
  {
   "cell_type": "code",
   "execution_count": 6,
   "metadata": {
    "ExecuteTime": {
     "end_time": "2024-01-15T14:48:31.568433900Z",
     "start_time": "2024-01-15T14:48:31.550434900Z"
    }
   },
   "outputs": [],
   "source": [
    "# Code to create the pivot table in a efficient way in csr matrix\n",
    "\n",
    "def sparse_pivot_table(data, userId_column, itemId_column, ratings_column):\n",
    "    user_ids = data[userId_column].unique()\n",
    "    title_ids = data[itemId_column].unique()\n",
    "\n",
    "    user_to_row = {user_id: i for i, user_id in enumerate(data[userId_column].unique())} # dict used to userNames\n",
    "    title_to_col = {title: j for j, title in enumerate(data[itemId_column].unique())} # dict used to itemNames\n",
    "\n",
    "    rows = [user_to_row[user_id] for user_id in data[userId_column]]\n",
    "    cols = [title_to_col[title] for title in data[itemId_column]]\n",
    "    ratings = data[ratings_column].tolist()\n",
    "\n",
    "    sparse_matrix = csr_matrix((ratings, (rows, cols)), shape=(len(user_ids), len(title_ids)))\n",
    "\n",
    "    user_list = pd.Series(list(user_to_row.keys()))\n",
    "    item_list = pd.Series(list(title_to_col.keys()))\n",
    "\n",
    "    return user_list, item_list, sparse_matrix"
   ]
  },
  {
   "cell_type": "code",
   "execution_count": 7,
   "metadata": {
    "ExecuteTime": {
     "end_time": "2024-01-15T14:48:46.965444500Z",
     "start_time": "2024-01-15T14:48:31.564436Z"
    }
   },
   "outputs": [],
   "source": [
    "user_names, movie_names, sparse_matrix = sparse_pivot_table(data, \"userId\", \"title\", \"rating\")"
   ]
  },
  {
   "cell_type": "code",
   "execution_count": 8,
   "metadata": {
    "ExecuteTime": {
     "end_time": "2024-01-15T14:48:47.265899500Z",
     "start_time": "2024-01-15T14:48:46.965444500Z"
    }
   },
   "outputs": [],
   "source": [
    "pivot_csr = sparse_matrix\n",
    "\n",
    "pivot_csc = sparse_matrix.tocsc()\n",
    "\n",
    "# Creating two sparses tables to make a more efficient code"
   ]
  },
  {
   "cell_type": "code",
   "execution_count": 9,
   "metadata": {
    "ExecuteTime": {
     "end_time": "2024-01-15T14:48:47.281775600Z",
     "start_time": "2024-01-15T14:48:47.267899300Z"
    }
   },
   "outputs": [],
   "source": [
    "del data, sparse_matrix"
   ]
  },
  {
   "cell_type": "markdown",
   "source": [
    "### Using the Collaborative Recommender\n",
    "\n",
    "In first place i build the recommender in the jupyter, but to make more consistent and clean i build a class DistanceCollaborativeRecommender to make this job.\n",
    "\n",
    "First, i use a item recommender, you give a item and returns similar items.\n",
    "After that, i use the Collab. Recommender for item and user, with two differents users."
   ],
   "metadata": {
    "collapsed": false
   }
  },
  {
   "cell_type": "code",
   "execution_count": 10,
   "outputs": [],
   "source": [
    "# function i use to dont repeat code\n",
    "\n",
    "def get_and_display_recommendation(recommender, user_id):\n",
    "    user, recommendation, values = recommender.get_recommendation(user_id, need_numeric=True)\n",
    "\n",
    "    print(\"Recommendation for the user\", user, \": \")\n",
    "    display(pd.Series(recommendation))\n",
    "\n",
    "    print(\"Items of the user\", user, \": \")\n",
    "    display(recommender.get_user_items(user)[:10])\n",
    "\n",
    "recommender_user_based = DistanceCollaborativeRecommender(pivot_csr, itemNames=movie_names, userNames=user_names,\n",
    "                                       type_of_recommendation=\"User\", metric=\"cosine\")\n",
    "\n",
    "recommender_item_based = DistanceCollaborativeRecommender(pivot_csc, itemNames=movie_names, userNames=user_names,\n",
    "                                       type_of_recommendation=\"Item\", metric=\"cosine\")"
   ],
   "metadata": {
    "collapsed": false,
    "ExecuteTime": {
     "end_time": "2024-01-15T14:48:47.344475200Z",
     "start_time": "2024-01-15T14:48:47.284781Z"
    }
   }
  },
  {
   "cell_type": "markdown",
   "source": [
    "#### Similars Items"
   ],
   "metadata": {
    "collapsed": false
   }
  },
  {
   "cell_type": "code",
   "execution_count": 11,
   "outputs": [
    {
     "data": {
      "text/plain": "array([0.5772946 , 0.33464377, 0.27060124, ..., 0.00349453, 0.00399375,\n       0.        ])"
     },
     "metadata": {},
     "output_type": "display_data"
    }
   ],
   "source": [
    "item, similars = recommender_item_based.get_items_similars(\"Star Wars\")\n",
    "\n",
    "display(similars)"
   ],
   "metadata": {
    "collapsed": false,
    "ExecuteTime": {
     "end_time": "2024-01-15T14:48:47.523844300Z",
     "start_time": "2024-01-15T14:48:47.346476900Z"
    }
   }
  },
  {
   "cell_type": "markdown",
   "source": [
    "#### Item-Based"
   ],
   "metadata": {
    "collapsed": false
   }
  },
  {
   "cell_type": "code",
   "execution_count": 12,
   "outputs": [
    {
     "name": "stdout",
     "output_type": "stream",
     "text": [
      "Recommendation for the user 357 : \n"
     ]
    },
    {
     "data": {
      "text/plain": "1212                               Terminator, The (1984)\n1184    Star Wars: Episode VI - Return of the Jedi (1983)\n1017                                      Die Hard (1988)\n537                                   Blade Runner (1982)\n1356                                          Jaws (1975)\n2830                                  Total Recall (1990)\n2630           Ghostbusters (a.k.a. Ghost Busters) (1984)\n2486                                   Matrix, The (1999)\n2031          Indiana Jones and the Temple of Doom (1984)\n2899                                       RoboCop (1987)\ndtype: object"
     },
     "metadata": {},
     "output_type": "display_data"
    },
    {
     "name": "stdout",
     "output_type": "stream",
     "text": [
      "Items of the user 357 : \n"
     ]
    },
    {
     "data": {
      "text/plain": "2555                                      Superman (1978)\n2556                                   Superman II (1980)\n1175                                        Aliens (1986)\n1275            Butch Cassidy and the Sundance Kid (1969)\n1173    Raiders of the Lost Ark (Indiana Jones and the...\n1171    Star Wars: Episode V - The Empire Strikes Back...\n1344           Star Trek III: The Search for Spock (1984)\n1345                 Star Trek IV: The Voyage Home (1986)\n3611                                       Mad Max (1979)\n1052           Willy Wonka & the Chocolate Factory (1971)\ndtype: object"
     },
     "metadata": {},
     "output_type": "display_data"
    }
   ],
   "source": [
    "get_and_display_recommendation(recommender_item_based, 357)"
   ],
   "metadata": {
    "collapsed": false,
    "ExecuteTime": {
     "end_time": "2024-01-15T14:48:55.965528700Z",
     "start_time": "2024-01-15T14:48:47.518844900Z"
    }
   }
  },
  {
   "cell_type": "code",
   "execution_count": 13,
   "outputs": [
    {
     "name": "stdout",
     "output_type": "stream",
     "text": [
      "Recommendation for the user 22006 : \n"
     ]
    },
    {
     "data": {
      "text/plain": "2486                                   Matrix, The (1999)\n1528                     Men in Black (a.k.a. MIB) (1997)\n1242                            Back to the Future (1985)\n1171    Star Wars: Episode V - The Empire Strikes Back...\n2676                              Sixth Sense, The (1999)\n5252                                    Spider-Man (2002)\n1212                               Terminator, The (1984)\n3487                                     Gladiator (2000)\n1263            Indiana Jones and the Last Crusade (1989)\n1173    Raiders of the Lost Ark (Indiana Jones and the...\ndtype: object"
     },
     "metadata": {},
     "output_type": "display_data"
    },
    {
     "name": "stdout",
     "output_type": "stream",
     "text": [
      "Items of the user 22006 : \n"
     ]
    },
    {
     "data": {
      "text/plain": "14568                                        Avatar (2009)\n4054                                       Hannibal (2001)\n2994                                  Sleepy Hollow (1999)\n1291                        Alien³ (a.k.a. Alien 3) (1992)\n1184     Star Wars: Episode VI - Return of the Jedi (1983)\n843                                  Godfather, The (1972)\n602                                           Fargo (1996)\n586                                          Batman (1989)\n3933                     O Brother, Where Art Thou? (2000)\n583                      Terminator 2: Judgment Day (1991)\ndtype: object"
     },
     "metadata": {},
     "output_type": "display_data"
    }
   ],
   "source": [
    "get_and_display_recommendation(recommender_item_based, 22006)"
   ],
   "metadata": {
    "collapsed": false,
    "ExecuteTime": {
     "end_time": "2024-01-15T14:49:05.259814300Z",
     "start_time": "2024-01-15T14:48:55.922039800Z"
    }
   }
  },
  {
   "cell_type": "markdown",
   "metadata": {},
   "source": [
    "##### Consideration about cosine similarity\n",
    "\n",
    "A important information is cosine similarity dont considers magnitude, i.e. if a user rate all films they see with 0, is perfectly similar to another user who rates all the same films as 5, is important considers the rating of a film, but the users are similars in some way, when you focus in watched movies.\n",
    "\n",
    "Cosine Similarity can be a bit dangerous, but if you know the risks, you can consider using this metric.\n"
   ]
  },
  {
   "cell_type": "markdown",
   "metadata": {},
   "source": [
    "#### User-Based\n"
   ]
  },
  {
   "cell_type": "code",
   "execution_count": 14,
   "metadata": {
    "ExecuteTime": {
     "end_time": "2024-01-15T14:49:08.804046700Z",
     "start_time": "2024-01-15T14:49:05.218541400Z"
    }
   },
   "outputs": [
    {
     "name": "stdout",
     "output_type": "stream",
     "text": [
      "Recommendation for the user 357 : \n"
     ]
    },
    {
     "data": {
      "text/plain": "2486                                   Matrix, The (1999)\n293                                   Pulp Fiction (1994)\n1184    Star Wars: Episode VI - Return of the Jedi (1983)\n587                      Silence of the Lambs, The (1991)\n315                      Shawshank Redemption, The (1994)\n352                                   Forrest Gump (1994)\n476                                  Jurassic Park (1993)\n108                                     Braveheart (1995)\n523                               Schindler's List (1993)\n843                                 Godfather, The (1972)\ndtype: object"
     },
     "metadata": {},
     "output_type": "display_data"
    },
    {
     "name": "stdout",
     "output_type": "stream",
     "text": [
      "Items of the user 357 : \n"
     ]
    },
    {
     "data": {
      "text/plain": "2555                                      Superman (1978)\n2556                                   Superman II (1980)\n1175                                        Aliens (1986)\n1275            Butch Cassidy and the Sundance Kid (1969)\n1173    Raiders of the Lost Ark (Indiana Jones and the...\n1171    Star Wars: Episode V - The Empire Strikes Back...\n1344           Star Trek III: The Search for Spock (1984)\n1345                 Star Trek IV: The Voyage Home (1986)\n3611                                       Mad Max (1979)\n1052           Willy Wonka & the Chocolate Factory (1971)\ndtype: object"
     },
     "metadata": {},
     "output_type": "display_data"
    }
   ],
   "source": [
    "get_and_display_recommendation(recommender_user_based, 357)"
   ]
  },
  {
   "cell_type": "code",
   "execution_count": 15,
   "outputs": [
    {
     "name": "stdout",
     "output_type": "stream",
     "text": [
      "Recommendation for the user 22006 : \n"
     ]
    },
    {
     "data": {
      "text/plain": "293                                   Pulp Fiction (1994)\n315                      Shawshank Redemption, The (1994)\n352                                   Forrest Gump (1994)\n587                      Silence of the Lambs, The (1991)\n257             Star Wars: Episode IV - A New Hope (1977)\n2486                                   Matrix, The (1999)\n476                                  Jurassic Park (1993)\n1171    Star Wars: Episode V - The Empire Strikes Back...\n523                               Schindler's List (1993)\n49                             Usual Suspects, The (1995)\ndtype: object"
     },
     "metadata": {},
     "output_type": "display_data"
    },
    {
     "name": "stdout",
     "output_type": "stream",
     "text": [
      "Items of the user 22006 : \n"
     ]
    },
    {
     "data": {
      "text/plain": "14568                                        Avatar (2009)\n4054                                       Hannibal (2001)\n2994                                  Sleepy Hollow (1999)\n1291                        Alien³ (a.k.a. Alien 3) (1992)\n1184     Star Wars: Episode VI - Return of the Jedi (1983)\n843                                  Godfather, The (1972)\n602                                           Fargo (1996)\n586                                          Batman (1989)\n3933                     O Brother, Where Art Thou? (2000)\n583                      Terminator 2: Judgment Day (1991)\ndtype: object"
     },
     "metadata": {},
     "output_type": "display_data"
    }
   ],
   "source": [
    "get_and_display_recommendation(recommender_user_based, 22006)"
   ],
   "metadata": {
    "collapsed": false,
    "ExecuteTime": {
     "end_time": "2024-01-15T14:49:12.535444300Z",
     "start_time": "2024-01-15T14:49:08.823046300Z"
    }
   }
  },
  {
   "cell_type": "code",
   "execution_count": 16,
   "metadata": {
    "ExecuteTime": {
     "end_time": "2024-01-15T14:49:12.583044900Z",
     "start_time": "2024-01-15T14:49:12.525359300Z"
    }
   },
   "outputs": [
    {
     "data": {
      "text/plain": "(138493, 26729)"
     },
     "execution_count": 16,
     "metadata": {},
     "output_type": "execute_result"
    }
   ],
   "source": [
    "pivot_csc.shape\n",
    "# OLD - 2084 Movies and 138300 Users\n",
    "# NEW - 26729 Movies and 138493 Users\n",
    "# OBS = Cosine and pearson with same result for users"
   ]
  },
  {
   "cell_type": "code",
   "execution_count": 17,
   "metadata": {
    "ExecuteTime": {
     "end_time": "2024-01-15T14:49:12.595044800Z",
     "start_time": "2024-01-15T14:49:12.541363100Z"
    }
   },
   "outputs": [],
   "source": [
    "del pivot_csc, pivot_csr, users_to_validate, user_names, movie_names"
   ]
  },
  {
   "cell_type": "markdown",
   "source": [
    "### AMAZON BOOKS\n",
    "\n",
    "The amazon books dataset is a well formatted dataset, with a lot of informations i remove previously, maintaining just the essential to recommend in this notebook. I also perform multiple tests to be safe the pivot table are correct."
   ],
   "metadata": {
    "collapsed": false
   }
  },
  {
   "cell_type": "code",
   "execution_count": 18,
   "outputs": [
    {
     "data": {
      "text/plain": "                            Title          Id         User_id  review/score\n0  Its Only Art If Its Well Hung!  1882931173   AVCGYZL8FQQTD           4.0\n1        Dr. Seuss: American Icon  0826414346  A30TK6U7DNS82R           5.0\n2        Dr. Seuss: American Icon  0826414346  A3UH4UZ4RSVO82           5.0\n3        Dr. Seuss: American Icon  0826414346  A2MVUWT453QH61           4.0\n4        Dr. Seuss: American Icon  0826414346  A22X4XUPKF66MR           4.0",
      "text/html": "<div>\n<style scoped>\n    .dataframe tbody tr th:only-of-type {\n        vertical-align: middle;\n    }\n\n    .dataframe tbody tr th {\n        vertical-align: top;\n    }\n\n    .dataframe thead th {\n        text-align: right;\n    }\n</style>\n<table border=\"1\" class=\"dataframe\">\n  <thead>\n    <tr style=\"text-align: right;\">\n      <th></th>\n      <th>Title</th>\n      <th>Id</th>\n      <th>User_id</th>\n      <th>review/score</th>\n    </tr>\n  </thead>\n  <tbody>\n    <tr>\n      <th>0</th>\n      <td>Its Only Art If Its Well Hung!</td>\n      <td>1882931173</td>\n      <td>AVCGYZL8FQQTD</td>\n      <td>4.0</td>\n    </tr>\n    <tr>\n      <th>1</th>\n      <td>Dr. Seuss: American Icon</td>\n      <td>0826414346</td>\n      <td>A30TK6U7DNS82R</td>\n      <td>5.0</td>\n    </tr>\n    <tr>\n      <th>2</th>\n      <td>Dr. Seuss: American Icon</td>\n      <td>0826414346</td>\n      <td>A3UH4UZ4RSVO82</td>\n      <td>5.0</td>\n    </tr>\n    <tr>\n      <th>3</th>\n      <td>Dr. Seuss: American Icon</td>\n      <td>0826414346</td>\n      <td>A2MVUWT453QH61</td>\n      <td>4.0</td>\n    </tr>\n    <tr>\n      <th>4</th>\n      <td>Dr. Seuss: American Icon</td>\n      <td>0826414346</td>\n      <td>A22X4XUPKF66MR</td>\n      <td>4.0</td>\n    </tr>\n  </tbody>\n</table>\n</div>"
     },
     "execution_count": 18,
     "metadata": {},
     "output_type": "execute_result"
    }
   ],
   "source": [
    "ratings = pd.read_csv(\"../Datasets/Amazon Books/simple_ratings.csv\")\n",
    "\n",
    "ratings.head()"
   ],
   "metadata": {
    "collapsed": false,
    "ExecuteTime": {
     "end_time": "2024-01-15T14:49:12.941992Z",
     "start_time": "2024-01-15T14:49:12.555358Z"
    }
   }
  },
  {
   "cell_type": "code",
   "execution_count": 19,
   "outputs": [
    {
     "name": "stdout",
     "output_type": "stream",
     "text": [
      "<class 'pandas.core.frame.DataFrame'>\n",
      "Index: 461962 entries, 0 to 574999\n",
      "Data columns (total 4 columns):\n",
      " #   Column        Non-Null Count   Dtype  \n",
      "---  ------        --------------   -----  \n",
      " 0   Title         461962 non-null  object \n",
      " 1   Id            461962 non-null  object \n",
      " 2   User_id       461962 non-null  object \n",
      " 3   review/score  461962 non-null  float64\n",
      "dtypes: float64(1), object(3)\n",
      "memory usage: 17.6+ MB\n"
     ]
    }
   ],
   "source": [
    "ratings.dropna(axis = 0, inplace = True)\n",
    "\n",
    "ratings.info()\n",
    "\n",
    "data = ratings.copy()"
   ],
   "metadata": {
    "collapsed": false,
    "ExecuteTime": {
     "end_time": "2024-01-15T14:49:13.090140100Z",
     "start_time": "2024-01-15T14:49:12.935994900Z"
    }
   }
  },
  {
   "cell_type": "code",
   "execution_count": 20,
   "outputs": [],
   "source": [
    "user_names, item_names, sparse_matrix = sparse_pivot_table(data, \"User_id\", \"Title\", \"review/score\")"
   ],
   "metadata": {
    "collapsed": false,
    "ExecuteTime": {
     "end_time": "2024-01-15T14:49:13.972385200Z",
     "start_time": "2024-01-15T14:49:13.095142100Z"
    }
   }
  },
  {
   "cell_type": "code",
   "execution_count": 21,
   "outputs": [],
   "source": [
    "recommender_item_based = DistanceCollaborativeRecommender(sparse_matrix.tocsc(), itemNames = item_names, userNames = user_names, \n",
    "                               type_of_recommendation=\"Item\", metric = \"cosine\")\n",
    "\n",
    "recommender_user_based = DistanceCollaborativeRecommender(sparse_matrix, itemNames = item_names, userNames = user_names, \n",
    "                               type_of_recommendation=\"User\", metric = \"cosine\")"
   ],
   "metadata": {
    "collapsed": false,
    "ExecuteTime": {
     "end_time": "2024-01-15T14:49:14.125456100Z",
     "start_time": "2024-01-15T14:49:13.972385200Z"
    }
   }
  },
  {
   "cell_type": "code",
   "execution_count": 22,
   "outputs": [
    {
     "name": "stdout",
     "output_type": "stream",
     "text": [
      "Recommendation for the user A3B25NK1NTDS4M : \n"
     ]
    },
    {
     "data": {
      "text/plain": "26265                                 Bachelors Get Lonely\n27704                        Spill the Jackpot (\"Mapback\")\n1993                       The Case of the Haunted Husband\n24899                                      Top of the Heap\n28395                                  The Battle of Kursk\n8796     El Caso De LA Heredera Solitaria/the Case of t...\n7915     El Caso Del Patito Que Se Ahogaba/the Case of ...\n32798                        The Case of the Backward Mule\n6240                           Give 'em The Ax (Dell D213)\n24983    Nine men;: A political history of the Supreme ...\ndtype: object"
     },
     "metadata": {},
     "output_type": "display_data"
    },
    {
     "name": "stdout",
     "output_type": "stream",
     "text": [
      "Items of the user A3B25NK1NTDS4M : \n"
     ]
    },
    {
     "data": {
      "text/plain": "30080                                          Red Harvest\n30591                                    A Hell of a Woman\n30174    A comparison of the \"Origin of movement\" serie...\n35727                                   Where Serpents Lie\n26026    The Case of the Howling Dog (Perry Mason Myste...\n6621                                ONE FEARFUL YELLOW EYE\n5867                                   Muscle for the Wing\ndtype: object"
     },
     "metadata": {},
     "output_type": "display_data"
    }
   ],
   "source": [
    "get_and_display_recommendation(recommender_item_based, \"A3B25NK1NTDS4M\")"
   ],
   "metadata": {
    "collapsed": false,
    "ExecuteTime": {
     "end_time": "2024-01-15T14:49:14.499662400Z",
     "start_time": "2024-01-15T14:49:14.143457500Z"
    }
   }
  },
  {
   "cell_type": "code",
   "execution_count": 23,
   "outputs": [
    {
     "name": "stdout",
     "output_type": "stream",
     "text": [
      "Recommendation for the user A3B25NK1NTDS4M : \n"
     ]
    },
    {
     "data": {
      "text/plain": "6741         Farewell, my lovely\n11968               The Thin Man\n12686              The Glass Key\n34539                  Big Sleep\n34729         Farewell My Lovely\n10861        Farewell, My Lovely\n30693             The Dain Curse\n30393    Great Gatsby (Everyman)\n19225           The Great Gatsby\n1224              Fahrenheit 451\ndtype: object"
     },
     "metadata": {},
     "output_type": "display_data"
    },
    {
     "name": "stdout",
     "output_type": "stream",
     "text": [
      "Items of the user A3B25NK1NTDS4M : \n"
     ]
    },
    {
     "data": {
      "text/plain": "30080                                          Red Harvest\n30591                                    A Hell of a Woman\n30174    A comparison of the \"Origin of movement\" serie...\n35727                                   Where Serpents Lie\n26026    The Case of the Howling Dog (Perry Mason Myste...\n6621                                ONE FEARFUL YELLOW EYE\n5867                                   Muscle for the Wing\ndtype: object"
     },
     "metadata": {},
     "output_type": "display_data"
    }
   ],
   "source": [
    "get_and_display_recommendation(recommender_user_based, \"A3B25NK1NTDS4M\")"
   ],
   "metadata": {
    "collapsed": false,
    "ExecuteTime": {
     "end_time": "2024-01-15T14:49:18.814597200Z",
     "start_time": "2024-01-15T14:49:14.500626400Z"
    }
   }
  },
  {
   "cell_type": "code",
   "execution_count": 24,
   "outputs": [],
   "source": [
    "del ratings, user_names, item_names, sparse_matrix, data\n"
   ],
   "metadata": {
    "collapsed": false,
    "ExecuteTime": {
     "end_time": "2024-01-15T14:49:18.867601900Z",
     "start_time": "2024-01-15T14:49:18.822599200Z"
    }
   }
  },
  {
   "cell_type": "markdown",
   "source": [
    "### STEAM GAMES\n",
    "\n",
    "Steam Games dataset dont has review information, but has hours played information, so i use the hours instead of reviews in the pivot table."
   ],
   "metadata": {
    "collapsed": false
   }
  },
  {
   "cell_type": "code",
   "execution_count": 25,
   "outputs": [
    {
     "name": "stdout",
     "output_type": "stream",
     "text": [
      "<class 'pandas.core.frame.DataFrame'>\n",
      "RangeIndex: 200000 entries, 0 to 199999\n",
      "Data columns (total 4 columns):\n",
      " #   Column     Non-Null Count   Dtype  \n",
      "---  ------     --------------   -----  \n",
      " 0   User_ID    200000 non-null  int64  \n",
      " 1   Game_Name  200000 non-null  object \n",
      " 2   Action     200000 non-null  object \n",
      " 3   Hours      200000 non-null  float64\n",
      "dtypes: float64(1), int64(1), object(2)\n",
      "memory usage: 6.1+ MB\n"
     ]
    }
   ],
   "source": [
    "transactions =  pd.read_csv(\"../Datasets/Games/new_transactions.csv\")\n",
    "\n",
    "transactions.info()"
   ],
   "metadata": {
    "collapsed": false,
    "ExecuteTime": {
     "end_time": "2024-01-15T14:49:18.965134600Z",
     "start_time": "2024-01-15T14:49:18.841597900Z"
    }
   }
  },
  {
   "cell_type": "code",
   "execution_count": 26,
   "outputs": [
    {
     "data": {
      "text/plain": "     User_ID                   Game_Name    Action  Hours\n0  151603712  The Elder Scrolls V Skyrim  purchase    1.0\n1  151603712  The Elder Scrolls V Skyrim      play  273.0\n2  151603712                   Fallout 4  purchase    1.0\n3  151603712                   Fallout 4      play   87.0\n4  151603712                       Spore  purchase    1.0",
      "text/html": "<div>\n<style scoped>\n    .dataframe tbody tr th:only-of-type {\n        vertical-align: middle;\n    }\n\n    .dataframe tbody tr th {\n        vertical-align: top;\n    }\n\n    .dataframe thead th {\n        text-align: right;\n    }\n</style>\n<table border=\"1\" class=\"dataframe\">\n  <thead>\n    <tr style=\"text-align: right;\">\n      <th></th>\n      <th>User_ID</th>\n      <th>Game_Name</th>\n      <th>Action</th>\n      <th>Hours</th>\n    </tr>\n  </thead>\n  <tbody>\n    <tr>\n      <th>0</th>\n      <td>151603712</td>\n      <td>The Elder Scrolls V Skyrim</td>\n      <td>purchase</td>\n      <td>1.0</td>\n    </tr>\n    <tr>\n      <th>1</th>\n      <td>151603712</td>\n      <td>The Elder Scrolls V Skyrim</td>\n      <td>play</td>\n      <td>273.0</td>\n    </tr>\n    <tr>\n      <th>2</th>\n      <td>151603712</td>\n      <td>Fallout 4</td>\n      <td>purchase</td>\n      <td>1.0</td>\n    </tr>\n    <tr>\n      <th>3</th>\n      <td>151603712</td>\n      <td>Fallout 4</td>\n      <td>play</td>\n      <td>87.0</td>\n    </tr>\n    <tr>\n      <th>4</th>\n      <td>151603712</td>\n      <td>Spore</td>\n      <td>purchase</td>\n      <td>1.0</td>\n    </tr>\n  </tbody>\n</table>\n</div>"
     },
     "execution_count": 26,
     "metadata": {},
     "output_type": "execute_result"
    }
   ],
   "source": [
    "transactions.head()"
   ],
   "metadata": {
    "collapsed": false,
    "ExecuteTime": {
     "end_time": "2024-01-15T14:49:19.010239300Z",
     "start_time": "2024-01-15T14:49:18.971123500Z"
    }
   }
  },
  {
   "cell_type": "code",
   "execution_count": 27,
   "outputs": [],
   "source": [
    "games_hours = transactions.drop(axis = 0, index = transactions[transactions[\"Action\"] == \"purchase\"].index)[[\"User_ID\", \"Game_Name\", \"Hours\"]]\n",
    "\n",
    "first_cut =  games_hours[[\"Game_Name\", \"Hours\"]].groupby([\"Game_Name\"]).quantile(0.3)\n",
    "median_ =    games_hours[[\"Game_Name\", \"Hours\"]].groupby([\"Game_Name\"]).quantile(0.5)\n",
    "third_cut =  games_hours[[\"Game_Name\", \"Hours\"]].groupby([\"Game_Name\"]).quantile(0.65)\n",
    "fourth_cut = games_hours[[\"Game_Name\", \"Hours\"]].groupby([\"Game_Name\"]).quantile(0.90)"
   ],
   "metadata": {
    "collapsed": false,
    "ExecuteTime": {
     "end_time": "2024-01-15T14:49:19.122752900Z",
     "start_time": "2024-01-15T14:49:18.995236900Z"
    }
   }
  },
  {
   "cell_type": "code",
   "execution_count": 28,
   "outputs": [],
   "source": [
    "games_hours[\"HLow_Played\"] = 0\n",
    "games_hours[\"HLow_Played\"] = games_hours.apply(\n",
    "                                        lambda x: 1\n",
    "                                        if 0 < x[\"Hours\"] > 0\n",
    "                                        else 0,\n",
    "                                        axis = 1)\n",
    "\n",
    "games_hours[\"Low_Played\"] = 0\n",
    "games_hours[\"Low_Played\"] = games_hours.apply(\n",
    "                                        lambda x: 1\n",
    "                                        if 0 < x[\"Hours\"] >= first_cut.loc[x[\"Game_Name\"]].iloc[0]\n",
    "                                        else 0,\n",
    "                                        axis = 1)\n",
    "\n",
    "games_hours[\"Mid_Played\"] = 0\n",
    "games_hours[\"Mid_Played\"] = games_hours.apply(\n",
    "                                        lambda x: 1\n",
    "                                        if 0 < x[\"Hours\"] >= median_.loc[x[\"Game_Name\"]].iloc[0]\n",
    "                                        else 0,\n",
    "                                        axis = 1)\n",
    "\n",
    "games_hours[\"High_Played\"] = 0\n",
    "games_hours[\"High_Played\"] = games_hours.apply(\n",
    "                                        lambda x: 1\n",
    "                                        if x[\"Hours\"] >= third_cut.loc[x[\"Game_Name\"]].iloc[0]\n",
    "                                        else 0,\n",
    "                                        axis = 1)\n",
    "\n",
    "games_hours[\"Extr_Played\"] = 0\n",
    "games_hours[\"Extr_Played\"] = games_hours.apply(\n",
    "                                        lambda x: 1\n",
    "                                        if x[\"Hours\"] >= fourth_cut.loc[x[\"Game_Name\"]].iloc[0]\n",
    "                                        else 0,\n",
    "                                        axis = 1)\n",
    "\n",
    "games_hours[\"Played\"] = (games_hours[\"HLow_Played\"] + games_hours[\"Low_Played\"] + \n",
    "                         games_hours[\"Mid_Played\"] + games_hours[\"High_Played\"] + games_hours[\"Extr_Played\"])\n",
    "\n",
    "games_hours.drop(axis = 1, columns = [\"HLow_Played\", \"Low_Played\", \"Mid_Played\", \"High_Played\", \"Extr_Played\"], inplace = True)"
   ],
   "metadata": {
    "collapsed": false,
    "ExecuteTime": {
     "end_time": "2024-01-15T14:49:28.863605600Z",
     "start_time": "2024-01-15T14:49:19.122752900Z"
    }
   }
  },
  {
   "cell_type": "code",
   "execution_count": 29,
   "outputs": [],
   "source": [
    "data = games_hours.copy()\n",
    "\n",
    "data[\"User_ID\"] = data[\"User_ID\"].astype(str)\n",
    "\n",
    "user_names, item_names, sparse_matrix = sparse_pivot_table(data, \"User_ID\", \"Game_Name\", \"Played\")"
   ],
   "metadata": {
    "collapsed": false,
    "ExecuteTime": {
     "end_time": "2024-01-15T14:49:28.943124Z",
     "start_time": "2024-01-15T14:49:28.865608500Z"
    }
   }
  },
  {
   "cell_type": "code",
   "execution_count": 30,
   "outputs": [],
   "source": [
    "recommender_item_based = DistanceCollaborativeRecommender(sparse_matrix.tocsc(), itemNames = item_names, userNames = user_names,   \n",
    "                                                          type_of_recommendation=\"Item\", metric = \"cosine\")\n",
    "recommender_user_based = DistanceCollaborativeRecommender(sparse_matrix, itemNames = item_names, userNames = user_names, \n",
    "                                                          type_of_recommendation=\"User\", metric = \"cosine\")"
   ],
   "metadata": {
    "collapsed": false,
    "ExecuteTime": {
     "end_time": "2024-01-15T14:49:28.958120900Z",
     "start_time": "2024-01-15T14:49:28.947126600Z"
    }
   }
  },
  {
   "cell_type": "code",
   "execution_count": 31,
   "outputs": [
    {
     "name": "stdout",
     "output_type": "stream",
     "text": [
      "Recommendation for the user 161896440 : \n"
     ]
    },
    {
     "data": {
      "text/plain": "108                       Dishonored\n0         The Elder Scrolls V Skyrim\n154                    Borderlands 2\n62                          Portal 2\n59                      Just Cause 2\n10                       Tomb Raider\n64     Middle-earth Shadow of Mordor\n63          Deus Ex Human Revolution\n4                      Left 4 Dead 2\n3                  Fallout New Vegas\ndtype: object"
     },
     "metadata": {},
     "output_type": "display_data"
    },
    {
     "name": "stdout",
     "output_type": "stream",
     "text": [
      "Items of the user 161896440 : \n"
     ]
    },
    {
     "data": {
      "text/plain": "848                 Metro 2033 Redux\n497    Call of Duty Advanced Warfare\n52                         Far Cry 3\n13                 BioShock Infinite\n22                          BioShock\n46                Grand Theft Auto V\n226           Metro Last Light Redux\n113                 Metro Last Light\n991             Batman Arkham Knight\n796            Football Manager 2015\ndtype: object"
     },
     "metadata": {},
     "output_type": "display_data"
    }
   ],
   "source": [
    "get_and_display_recommendation(recommender_item_based, \"161896440\")"
   ],
   "metadata": {
    "collapsed": false,
    "ExecuteTime": {
     "end_time": "2024-01-15T14:49:29.036645900Z",
     "start_time": "2024-01-15T14:49:28.968122800Z"
    }
   }
  },
  {
   "cell_type": "code",
   "execution_count": 32,
   "outputs": [
    {
     "name": "stdout",
     "output_type": "stream",
     "text": [
      "Recommendation for the user 161896440 : \n"
     ]
    },
    {
     "data": {
      "text/plain": "9                      Team Fortress 2\n21                              Dota 2\n0           The Elder Scrolls V Skyrim\n39     Counter-Strike Global Offensive\n4                        Left 4 Dead 2\n154                      Borderlands 2\n62                            Portal 2\n24                         Garry's Mod\n280                           PAYDAY 2\n120                             Portal\ndtype: object"
     },
     "metadata": {},
     "output_type": "display_data"
    },
    {
     "name": "stdout",
     "output_type": "stream",
     "text": [
      "Items of the user 161896440 : \n"
     ]
    },
    {
     "data": {
      "text/plain": "848                 Metro 2033 Redux\n497    Call of Duty Advanced Warfare\n52                         Far Cry 3\n13                 BioShock Infinite\n22                          BioShock\n46                Grand Theft Auto V\n226           Metro Last Light Redux\n113                 Metro Last Light\n991             Batman Arkham Knight\n796            Football Manager 2015\ndtype: object"
     },
     "metadata": {},
     "output_type": "display_data"
    }
   ],
   "source": [
    "get_and_display_recommendation(recommender_user_based, \"161896440\")"
   ],
   "metadata": {
    "collapsed": false,
    "ExecuteTime": {
     "end_time": "2024-01-15T14:49:29.511345Z",
     "start_time": "2024-01-15T14:49:29.038645Z"
    }
   }
  },
  {
   "cell_type": "markdown",
   "source": [],
   "metadata": {
    "collapsed": false
   }
  },
  {
   "cell_type": "markdown",
   "metadata": {},
   "source": [
    "### OK\n",
    "#### tests for other datasets - Focus - depois separa ipynbs para cada dataset\n",
    "##### Amazon Books, Anime and Steam Datasets"
   ]
  }
 ],
 "metadata": {
  "kernelspec": {
   "display_name": "Python 3 (ipykernel)",
   "language": "python",
   "name": "python3"
  },
  "language_info": {
   "codemirror_mode": {
    "name": "ipython",
    "version": 3
   },
   "file_extension": ".py",
   "mimetype": "text/x-python",
   "name": "python",
   "nbconvert_exporter": "python",
   "pygments_lexer": "ipython3",
   "version": "3.10.7"
  }
 },
 "nbformat": 4,
 "nbformat_minor": 2
}
